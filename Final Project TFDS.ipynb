{
 "cells": [
  {
   "cell_type": "markdown",
   "id": "64d03461-b6eb-4ccd-8ac2-aea41161be20",
   "metadata": {},
   "source": [
    "# Final Project Submission"
   ]
  },
  {
   "cell_type": "markdown",
   "id": "c5da89e0-b4ec-4f1f-84bf-1f1d7db634de",
   "metadata": {},
   "source": [
    " ## Exercise 2 - Title of the Notebook\n",
    "# Final Project: Data Science Notebook"
   ]
  },
  {
   "cell_type": "markdown",
   "id": "78829f8c-76ca-4550-8bfb-6bfcc92ab24a",
   "metadata": {},
   "source": [
    "## Exercise 3 - Introduction\n",
    "This notebook is a final project for demonstrating foundational skills in Jupyter Notebook for Data Science. It covers exercises that include markdown formatting, lists, tables, basic arithmetic, and code cells to perform operations, showcasing the applications of these skills in data science."
   ]
  },
  {
   "cell_type": "markdown",
   "id": "6934b912-69f4-4951-a73c-b1617e1eb89e",
   "metadata": {},
   "source": [
    "## Exercise 4 - Data Science Languages\n",
    "Some of the main programming languages commonly used in Data Science include:\n",
    "- Python\n",
    "- R\n",
    "- SQL\n",
    "- Julia\n",
    "- Scala"
   ]
  },
  {
   "cell_type": "markdown",
   "id": "d1deb889-484c-4d0f-9c78-52974691338a",
   "metadata": {},
   "source": [
    "## Exercise 5 - Data Science Libraries\n",
    "Key libraries used in Data Science include:\n",
    "- **Python**: Pandas, NumPy, Scikit-learn, Matplotlib, TensorFlow, PyTorch\n",
    "- **R**: dplyr, ggplot2, caret, tidyr\n",
    "- **Scala**: Breeze, Spark MLlib\n"
   ]
  },
  {
   "cell_type": "code",
   "execution_count": null,
   "id": "31790122-434e-4636-be99-b6c7fdb470ca",
   "metadata": {},
   "outputs": [],
   "source": []
  },
  {
   "cell_type": "markdown",
   "id": "40554d9e-6d69-42ae-b887-e8dd89e6e663",
   "metadata": {},
   "source": [
    "## Exercise 6 - Data Science Tools\n",
    "\n",
    "| Tool             | Description                                           |\n",
    "|------------------|-------------------------------------------------------|\n",
    "| Jupyter Notebook | Environment for interactive coding and documentation  |\n",
    "| RStudio          | IDE specifically for R programming                    |\n",
    "| Apache Spark     | Engine for large-scale data processing                |\n",
    "| TensorFlow       | Framework for deep learning and machine learning      |\n",
    "| Tableau          | Tool for data visualization and business intelligence |"
   ]
  },
  {
   "cell_type": "markdown",
   "id": "51bcd762-9a6e-469e-87c6-26b3d0e658d3",
   "metadata": {},
   "source": [
    "## Exercise 7 - Arithmetic Expressions\n",
    "In this section, we demonstrate some basic arithmetic expressions that can be performed in Python, such as addition, subtraction, multiplication, and division.\n"
   ]
  },
  {
   "cell_type": "markdown",
   "id": "ffc3f8da-edc9-485e-8935-e9c33555c7c6",
   "metadata": {},
   "source": [
    "## Exercise 8 - Code Cell: Multiply and Add Numbers\n",
    "```python\n",
    "# Multiply and add numbers"
   ]
  },
  {
   "cell_type": "code",
   "execution_count": 20,
   "id": "ce3a5dba-0704-4ecf-87d0-2062fe383b93",
   "metadata": {},
   "outputs": [
    {
     "data": {
      "text/plain": [
       "17"
      ]
     },
     "execution_count": 20,
     "metadata": {},
     "output_type": "execute_result"
    }
   ],
   "source": [
    "(3 * 4) + 5"
   ]
  },
  {
   "cell_type": "code",
   "execution_count": 22,
   "id": "db3f6b44-4ed6-48ca-8232-785c39382519",
   "metadata": {},
   "outputs": [
    {
     "data": {
      "text/plain": [
       "3.3333333333333335"
      ]
     },
     "execution_count": 22,
     "metadata": {},
     "output_type": "execute_result"
    }
   ],
   "source": [
    "# Convert 200 minutes to hours by dividing by 60\n",
    "minutes = 200\n",
    "hours = minutes / 60\n",
    "hours\n"
   ]
  },
  {
   "cell_type": "markdown",
   "id": "1e95bdb6-a9ed-4577-a5af-e7e9c727d001",
   "metadata": {},
   "source": [
    "## 10 Objetives\n",
    "\n",
    "Data Science encompasses a wide range of fields and tools to analyze and interpret data. Some of the essential areas include:\n",
    "\n",
    "- Data Collection\n",
    "- Data Cleaning and Preprocessing\n",
    "- Data Analysis\n",
    "- Machine Learning and Statistical Modeling\n",
    "- Data Visualization\n",
    "- Communication of Results"
   ]
  },
  {
   "cell_type": "markdown",
   "id": "8d5c0a73-3949-4156-a14a-53e6b90d017a",
   "metadata": {},
   "source": [
    "# Author:\n",
    "## María Paula Gutiérrez Romero."
   ]
  },
  {
   "cell_type": "code",
   "execution_count": null,
   "id": "7c29b53d-a9d4-45ec-ac23-6f13388bed6f",
   "metadata": {},
   "outputs": [],
   "source": []
  }
 ],
 "metadata": {
  "kernelspec": {
   "display_name": "Python 3 (ipykernel)",
   "language": "python",
   "name": "python3"
  },
  "language_info": {
   "codemirror_mode": {
    "name": "ipython",
    "version": 3
   },
   "file_extension": ".py",
   "mimetype": "text/x-python",
   "name": "python",
   "nbconvert_exporter": "python",
   "pygments_lexer": "ipython3",
   "version": "3.12.4"
  }
 },
 "nbformat": 4,
 "nbformat_minor": 5
}
